{
  "cells": [
    {
      "cell_type": "code",
      "execution_count": null,
      "metadata": {
        "id": "4wM0KwXFgxeS"
      },
      "outputs": [],
      "source": [
        "!apt install libomp-dev\n",
        "!pip install faiss-gpu"
      ]
    },
    {
      "cell_type": "code",
      "execution_count": 2,
      "metadata": {
        "id": "XGI0Y5_th2uE"
      },
      "outputs": [],
      "source": [
        "import faiss\n",
        "import pandas as pd\n",
        "import numpy as np"
      ]
    },
    {
      "attachments": {},
      "cell_type": "markdown",
      "metadata": {
        "id": "HKdqtWCJkz5Y"
      },
      "source": [
        "### 🪷 faiss metric으로 output token과 emoji의 유사성 계산"
      ]
    },
    {
      "cell_type": "code",
      "execution_count": null,
      "metadata": {
        "id": "oo38g3ALk_Gi"
      },
      "outputs": [],
      "source": [
        "from google.colab import drive\n",
        "drive.mount('/content/drive/')\n",
        "\n",
        "vectors = []\n",
        "df = pd.read_csv('/content/drive/MyDrive/BOAZ/emoji_vector_unicode.csv')\n"
      ]
    },
    {
      "cell_type": "code",
      "execution_count": null,
      "metadata": {
        "id": "q2j_do5sXG-T"
      },
      "outputs": [],
      "source": [
        "import torch\n",
        "\n",
        "vector_set = df[\"vector\"]\n",
        "\n",
        "# change vector type from string to list\n",
        "vector_set = vector_set.apply(lambda x: x[1:-1].split(', '))\n",
        "vector_set = vector_set.apply(lambda x: [float(i) for i in x])\n",
        "\n",
        "\n",
        "# change vector type from list to numpy array\n",
        "vector_set = vector_set.apply(lambda x: np.array(x))\n",
        "\n",
        "# change vector type from numpy array to torch tensor\n",
        "# vector_set = torch.tensor(vector_set)"
      ]
    },
    {
      "cell_type": "code",
      "execution_count": null,
      "metadata": {
        "id": "rfKi7RsbcTia"
      },
      "outputs": [],
      "source": [
        "vector_array = vector_set.astype(np.float32)"
      ]
    },
    {
      "attachments": {},
      "cell_type": "markdown",
      "metadata": {
        "id": "uCCw4CH5bJzF"
      },
      "source": [
        "---"
      ]
    },
    {
      "cell_type": "code",
      "execution_count": null,
      "metadata": {
        "id": "Gd1L6m2sw1ue"
      },
      "outputs": [],
      "source": [
        "# Load model directly\n",
        "from transformers import AutoTokenizer, AutoModelForSequenceClassification\n",
        "\n",
        "tokenizer = AutoTokenizer.from_pretrained(\"augustinLib/text-emoji-encoder\")\n",
        "model = AutoModelForSequenceClassification.from_pretrained(\"augustinLib/text-emoji-encoder\")"
      ]
    },
    {
      "cell_type": "code",
      "execution_count": null,
      "metadata": {
        "id": "KSMI39wRzSTM"
      },
      "outputs": [],
      "source": [
        "import torch"
      ]
    },
    {
      "cell_type": "code",
      "execution_count": null,
      "metadata": {
        "id": "beyBnEHpQim6"
      },
      "outputs": [],
      "source": [
        "input_sequence = \"mouse\"\n",
        "tokenized_input = tokenizer(input_sequence, return_tensors=\"pt\")\n",
        "logits = model(input_ids = tokenized_input.input_ids,\n",
        "               attention_mask = tokenized_input.attention_mask).logits\n",
        "\n",
        "query_vector = logits.detach().numpy()"
      ]
    },
    {
      "cell_type": "code",
      "execution_count": null,
      "metadata": {
        "id": "PTrIoJqlnBV6"
      },
      "outputs": [],
      "source": [
        "dimension = 300\n",
        "faiss_index = faiss.IndexFlatIP(dimension)\n",
        "print(faiss_index.ntotal)"
      ]
    },
    {
      "cell_type": "code",
      "execution_count": null,
      "metadata": {
        "id": "Eu4JugkWbyj6"
      },
      "outputs": [],
      "source": [
        "faiss_index.add(vector_array)"
      ]
    },
    {
      "cell_type": "code",
      "execution_count": null,
      "metadata": {
        "id": "HYv1WJBs_FFP"
      },
      "outputs": [],
      "source": [
        "Distance, Index = faiss_index.search(query_vector, 3)"
      ]
    },
    {
      "cell_type": "code",
      "execution_count": null,
      "metadata": {
        "id": "Aw1xf75iY4qB"
      },
      "outputs": [],
      "source": [
        "print(f'Index:{Index}')\n",
        "print(f'Distance:{Distance}')"
      ]
    },
    {
      "cell_type": "code",
      "execution_count": null,
      "metadata": {
        "id": "dCxNYRSKgy72"
      },
      "outputs": [],
      "source": [
        "df.loc[Index[0], :]"
      ]
    }
  ],
  "metadata": {
    "accelerator": "GPU",
    "colab": {
      "gpuType": "T4",
      "provenance": []
    },
    "kernelspec": {
      "display_name": "Python 3",
      "name": "python3"
    },
    "language_info": {
      "name": "python",
      "version": "3.8.18"
    }
  },
  "nbformat": 4,
  "nbformat_minor": 0
}
